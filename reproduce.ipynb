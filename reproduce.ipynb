{
 "cells": [
  {
   "cell_type": "markdown",
   "metadata": {},
   "source": [
    "#### Node classification"
   ]
  },
  {
   "cell_type": "code",
   "execution_count": 27,
   "metadata": {},
   "outputs": [
    {
     "name": "stdout",
     "output_type": "stream",
     "text": [
      "Namespace(batch_size=32, cls_epochs=500, data_path='~/data/pygdata/', dataset_name='Wiki-CS', device='cuda:0', epochs=100, gnn_drop_p=0.5, gnn_emb_dim=1024, gnn_layers=[1024, 1024], lambda_norm=10.0, load_model_path='checkpoints/fast-gcl-20220114/model/run01epoch001.pth', load_triplet_path='checkpoints/fast-gcl-20220114/result/run01epoch001_triplet.pth', log_steps=1, lr_cls=0.01, lr_gnn=5e-05, lr_vg=0.01, mask_path='./mask', mlp_drop_p=0.5, mlp_layers=[128], model_dir='checkpoints/wiki-cs_fast-gcl-220114/model', num_layers=2, result_dir='checkpoints/wiki-cs_fast-gcl-220114/result', runs=1, save_model=False, save_suffix='fast-gcl-220114', seed=123, task='node classification', wd_cls=1e-05, wd_gnn=0.0005, wd_vg=0.0005)\n",
      "Split for Embedding Learning: Train: 580, Val: 1769, Test: 11701\n",
      "Run: 01, Epoch: 01, Loss: -7.6848, Train: 85.57%, Valid: 79.91% Test: 78.43%\n",
      "Run: 01, Epoch: 02, Loss: -5.5240, Train: 85.66%, Valid: 79.92% Test: 78.46%\n",
      "Run: 01, Epoch: 03, Loss: -5.5263, Train: 85.74%, Valid: 79.93% Test: 78.48%\n",
      "Run: 01, Epoch: 04, Loss: -5.5290, Train: 85.82%, Valid: 79.95% Test: 78.50%\n",
      "Run: 01, Epoch: 05, Loss: -5.5311, Train: 85.84%, Valid: 79.97% Test: 78.52%\n",
      "Run: 01, Epoch: 06, Loss: -5.5337, Train: 85.92%, Valid: 79.98% Test: 78.54%\n",
      "Run: 01, Epoch: 07, Loss: -5.5356, Train: 86.02%, Valid: 80.00% Test: 78.56%\n",
      "Run: 01, Epoch: 08, Loss: -5.5388, Train: 86.05%, Valid: 80.01% Test: 78.59%\n",
      "Run: 01, Epoch: 09, Loss: -5.5410, Train: 86.11%, Valid: 80.00% Test: 78.62%\n",
      "Run: 01, Epoch: 10, Loss: -5.5447, Train: 86.16%, Valid: 80.01% Test: 78.64%\n",
      "Run: 01, Epoch: 11, Loss: -5.5471, Train: 86.25%, Valid: 80.05% Test: 78.67%\n",
      "Run: 01, Epoch: 12, Loss: -5.5488, Train: 86.36%, Valid: 80.09% Test: 78.69%\n",
      "Run: 01, Epoch: 13, Loss: -5.5523, Train: 86.47%, Valid: 80.13% Test: 78.69%\n",
      "Run: 01, Epoch: 14, Loss: -5.5549, Train: 86.58%, Valid: 80.16% Test: 78.71%\n",
      "Run: 01, Epoch: 15, Loss: -5.5578, Train: 86.66%, Valid: 80.19% Test: 78.75%\n",
      "Run: 01, Epoch: 16, Loss: -5.5616, Train: 86.77%, Valid: 80.22% Test: 78.77%\n",
      "Run: 01, Epoch: 17, Loss: -5.5639, Train: 86.82%, Valid: 80.21% Test: 78.80%\n",
      "Run: 01, Epoch: 18, Loss: -5.5678, Train: 86.91%, Valid: 80.23% Test: 78.81%\n",
      "Run: 01, Epoch: 19, Loss: -5.5702, Train: 87.03%, Valid: 80.23% Test: 78.82%\n",
      "Run: 01, Epoch: 20, Loss: -5.5741, Train: 87.15%, Valid: 80.27% Test: 78.83%\n",
      "Run: 01, Epoch: 21, Loss: -5.5771, Train: 87.28%, Valid: 80.31% Test: 78.87%\n",
      "Run: 01, Epoch: 22, Loss: -5.5804, Train: 87.40%, Valid: 80.34% Test: 78.90%\n",
      "Run: 01, Epoch: 23, Loss: -5.5829, Train: 87.53%, Valid: 80.36% Test: 78.91%\n",
      "Run: 01, Epoch: 24, Loss: -5.5870, Train: 87.67%, Valid: 80.42% Test: 78.96%\n",
      "Run: 01, Epoch: 25, Loss: -5.5896, Train: 87.82%, Valid: 80.45% Test: 78.99%\n",
      "Run: 01, Epoch: 26, Loss: -5.5944, Train: 87.91%, Valid: 80.49% Test: 79.01%\n",
      "Run: 01, Epoch: 27, Loss: -5.5972, Train: 88.05%, Valid: 80.55% Test: 79.05%\n",
      "Run: 01, Epoch: 28, Loss: -5.6010, Train: 88.18%, Valid: 80.59% Test: 79.06%\n",
      "Run: 01, Epoch: 29, Loss: -5.6044, Train: 88.34%, Valid: 80.60% Test: 79.08%\n",
      "Run: 01, Epoch: 30, Loss: -5.6074, Train: 88.50%, Valid: 80.66% Test: 79.09%\n",
      "Run: 01, Epoch: 31, Loss: -5.6114, Train: 88.61%, Valid: 80.70% Test: 79.11%\n",
      "Run: 01, Epoch: 32, Loss: -5.6151, Train: 88.68%, Valid: 80.72% Test: 79.12%\n",
      "Run: 01, Epoch: 33, Loss: -5.6179, Train: 88.85%, Valid: 80.72% Test: 79.14%\n",
      "Run: 01, Epoch: 34, Loss: -5.6221, Train: 89.01%, Valid: 80.72% Test: 79.17%\n",
      "Run: 01, Epoch: 35, Loss: -5.6245, Train: 89.13%, Valid: 80.73% Test: 79.18%\n",
      "Run: 01, Epoch: 36, Loss: -5.6278, Train: 89.22%, Valid: 80.77% Test: 79.20%\n",
      "Run: 01, Epoch: 37, Loss: -5.6314, Train: 89.34%, Valid: 80.79% Test: 79.20%\n",
      "Run: 01, Epoch: 38, Loss: -5.6341, Train: 89.50%, Valid: 80.80% Test: 79.18%\n",
      "Run: 01, Epoch: 39, Loss: -5.6368, Train: 89.60%, Valid: 80.80% Test: 79.18%\n",
      "Run: 01, Epoch: 40, Loss: -5.6403, Train: 89.77%, Valid: 80.77% Test: 79.20%\n",
      "Run: 01, Epoch: 41, Loss: -5.6432, Train: 89.85%, Valid: 80.81% Test: 79.22%\n",
      "Run: 01, Epoch: 42, Loss: -5.6450, Train: 90.00%, Valid: 80.81% Test: 79.20%\n",
      "Run: 01, Epoch: 43, Loss: -5.6471, Train: 90.14%, Valid: 80.83% Test: 79.21%\n",
      "Run: 01, Epoch: 44, Loss: -5.6496, Train: 90.29%, Valid: 80.82% Test: 79.21%\n",
      "Run: 01, Epoch: 45, Loss: -5.6512, Train: 90.41%, Valid: 80.83% Test: 79.20%\n",
      "Run: 01, Epoch: 46, Loss: -5.6558, Train: 90.54%, Valid: 80.84% Test: 79.20%\n",
      "Run: 01, Epoch: 47, Loss: -5.6549, Train: 90.69%, Valid: 80.84% Test: 79.20%\n",
      "Run: 01, Epoch: 48, Loss: -5.6580, Train: 90.90%, Valid: 80.86% Test: 79.20%\n",
      "Run: 01, Epoch: 49, Loss: -5.6601, Train: 91.07%, Valid: 80.83% Test: 79.19%\n",
      "Run: 01, Epoch: 50, Loss: -5.6619, Train: 91.16%, Valid: 80.77% Test: 79.17%\n",
      "Run: 01, Epoch: 51, Loss: -5.6617, Train: 91.34%, Valid: 80.72% Test: 79.15%\n",
      "Run: 01, Epoch: 52, Loss: -5.6636, Train: 91.47%, Valid: 80.70% Test: 79.14%\n",
      "Run: 01, Epoch: 53, Loss: -5.6652, Train: 91.64%, Valid: 80.67% Test: 79.14%\n",
      "Run: 01, Epoch: 54, Loss: -5.6666, Train: 91.76%, Valid: 80.62% Test: 79.13%\n",
      "Run: 01, Epoch: 55, Loss: -5.6721, Train: 91.93%, Valid: 80.59% Test: 79.14%\n",
      "Run: 01, Epoch: 56, Loss: -5.6796, Train: 92.10%, Valid: 80.58% Test: 79.14%\n",
      "Run: 01, Epoch: 57, Loss: -5.6858, Train: 92.29%, Valid: 80.55% Test: 79.16%\n",
      "Run: 01, Epoch: 58, Loss: -5.6895, Train: 92.36%, Valid: 80.53% Test: 79.15%\n",
      "Run: 01, Epoch: 59, Loss: -5.6929, Train: 92.44%, Valid: 80.51% Test: 79.14%\n",
      "Run: 01, Epoch: 60, Loss: -5.6973, Train: 92.50%, Valid: 80.49% Test: 79.15%\n",
      "Run: 01, Epoch: 61, Loss: -5.7182, Train: 92.59%, Valid: 80.57% Test: 79.14%\n",
      "Run: 01, Epoch: 62, Loss: -5.8400, Train: 92.70%, Valid: 80.55% Test: 79.13%\n",
      "Run: 01, Epoch: 63, Loss: -6.5401, Train: 92.66%, Valid: 80.57% Test: 79.13%\n",
      "Run: 01, Epoch: 64, Loss: -7.4714, Train: 92.68%, Valid: 80.56% Test: 79.10%\n",
      "Run: 01, Epoch: 65, Loss: -7.6664, Train: 92.74%, Valid: 80.53% Test: 79.11%\n",
      "Run: 01, Epoch: 66, Loss: -7.7269, Train: 92.76%, Valid: 80.53% Test: 79.09%\n",
      "Run: 01, Epoch: 67, Loss: -7.6813, Train: 92.81%, Valid: 80.57% Test: 79.08%\n",
      "Run: 01, Epoch: 68, Loss: -7.9696, Train: 92.81%, Valid: 80.54% Test: 79.08%\n",
      "Run: 01, Epoch: 69, Loss: -8.0297, Train: 92.89%, Valid: 80.55% Test: 79.07%\n",
      "Run: 01, Epoch: 70, Loss: -8.2884, Train: 92.91%, Valid: 80.51% Test: 79.06%\n",
      "Run: 01, Epoch: 71, Loss: -7.9959, Train: 92.92%, Valid: 80.54% Test: 79.05%\n",
      "Run: 01, Epoch: 72, Loss: -8.3267, Train: 92.94%, Valid: 80.52% Test: 79.05%\n",
      "Run: 01, Epoch: 73, Loss: -8.1998, Train: 92.97%, Valid: 80.50% Test: 79.04%\n",
      "Run: 01, Epoch: 74, Loss: -8.2927, Train: 93.03%, Valid: 80.50% Test: 79.05%\n",
      "Run: 01, Epoch: 75, Loss: -8.2415, Train: 93.08%, Valid: 80.50% Test: 79.03%\n",
      "Run: 01, Epoch: 76, Loss: -8.3034, Train: 93.08%, Valid: 80.51% Test: 79.04%\n",
      "Run: 01, Epoch: 77, Loss: -8.3414, Train: 93.11%, Valid: 80.53% Test: 79.05%\n",
      "Run: 01, Epoch: 78, Loss: -8.3346, Train: 93.20%, Valid: 80.50% Test: 79.04%\n",
      "Run: 01, Epoch: 79, Loss: -8.3903, Train: 93.24%, Valid: 80.50% Test: 79.02%\n",
      "Run: 01, Epoch: 80, Loss: -8.4414, Train: 93.26%, Valid: 80.51% Test: 79.03%\n",
      "Run: 01, Epoch: 81, Loss: -8.4456, Train: 93.28%, Valid: 80.50% Test: 79.02%\n",
      "Run: 01, Epoch: 82, Loss: -8.4513, Train: 93.33%, Valid: 80.49% Test: 79.03%\n",
      "Run: 01, Epoch: 83, Loss: -8.4900, Train: 93.33%, Valid: 80.49% Test: 79.02%\n",
      "Run: 01, Epoch: 84, Loss: -8.4645, Train: 93.34%, Valid: 80.49% Test: 79.02%\n",
      "Run: 01, Epoch: 85, Loss: -8.4958, Train: 93.32%, Valid: 80.49% Test: 79.04%\n",
      "Run: 01, Epoch: 86, Loss: -8.5167, Train: 93.37%, Valid: 80.48% Test: 79.03%\n",
      "Run: 01, Epoch: 87, Loss: -8.5135, Train: 93.40%, Valid: 80.47% Test: 79.01%\n",
      "Run: 01, Epoch: 88, Loss: -8.5304, Train: 93.41%, Valid: 80.48% Test: 79.02%\n",
      "Run: 01, Epoch: 89, Loss: -8.5515, Train: 93.41%, Valid: 80.48% Test: 79.03%\n",
      "Run: 01, Epoch: 90, Loss: -8.5731, Train: 93.41%, Valid: 80.48% Test: 79.02%\n",
      "Run: 01, Epoch: 91, Loss: -8.5506, Train: 93.45%, Valid: 80.48% Test: 79.03%\n",
      "Run: 01, Epoch: 92, Loss: -8.5552, Train: 93.46%, Valid: 80.48% Test: 79.02%\n",
      "Run: 01, Epoch: 93, Loss: -8.5856, Train: 93.44%, Valid: 80.49% Test: 79.03%\n",
      "Run: 01, Epoch: 94, Loss: -8.5911, Train: 93.44%, Valid: 80.49% Test: 79.02%\n",
      "Run: 01, Epoch: 95, Loss: -8.5974, Train: 93.46%, Valid: 80.47% Test: 79.02%\n",
      "Run: 01, Epoch: 96, Loss: -8.6124, Train: 93.47%, Valid: 80.47% Test: 79.03%\n",
      "Run: 01, Epoch: 97, Loss: -8.5957, Train: 93.47%, Valid: 80.50% Test: 79.02%\n",
      "Run: 01, Epoch: 98, Loss: -8.6061, Train: 93.46%, Valid: 80.48% Test: 79.02%\n",
      "Run: 01, Epoch: 99, Loss: -8.6169, Train: 93.44%, Valid: 80.49% Test: 79.03%\n",
      "Run: 01, Epoch: 100, Loss: -8.6245, Train: 93.46%, Valid: 80.48% Test: 79.02%\n",
      "==========Run 01 Node classification==========\n",
      "Highest Train: 93.47%\n",
      "Highest Valid: 80.86%\n",
      "  Final Train: 90.90%\n",
      "   Final Test: 79.20%\n",
      "==========Run 01 Node classification==========\n",
      "==========All Runs Node classification==========\n",
      "Highest Train: 93.47 ± nan\n",
      "Highest Valid: 80.86 ± nan\n",
      "  Final Train: 90.90 ± nan\n",
      "   Final Test: 79.20 ± nan\n"
     ]
    }
   ],
   "source": [
    "%run train.py --device=0 --dataset=Wiki-CS --batch_size=32 --epochs=100 --gnn_layers 1024 1024 --mlp_layers=128 --gnn_drop_p=0.5 --mlp_drop_p=0.5 \\\n",
    "    --lr_gnn=5e-5 --lr_vg=1e-2 --lr_cls=1e-2 --wd_cls=1e-5  --cls_epoch=500 --lambda_norm=10 --runs=1"
   ]
  },
  {
   "cell_type": "code",
   "execution_count": null,
   "metadata": {},
   "outputs": [],
   "source": [
    "%run train.py --device=1 --dataset=Computers --batch_size=32 --epochs=100  --gnn_layers 1024 1024 --mlp_layers=128 --gnn_drop_p=0.5 --mlp_drop_p=0.5 \\\n",
    "    --lr_gnn=1e-4 --lr_vg=5e-3 --lr_cls=3e-2 --wd_cls=1e-5 --cls_epoch=500 --lambda_norm=10 --runs=1"
   ]
  },
  {
   "cell_type": "code",
   "execution_count": null,
   "metadata": {},
   "outputs": [],
   "source": [
    "%run train.py --device=1 --dataset=Photo --batch_size=32 --epochs=100  --gnn_layers 1024 1024 --mlp_layers=128 --gnn_drop_p=0.5 --mlp_drop_p=0.5 \\\n",
    "    --lr_gnn=5e-5 --lr_vg=1e-4 --lr_cls=1e-2 --wd_cls=1e-5 --cls_epoch=500 --lambda_norm=10 --runs=1"
   ]
  },
  {
   "cell_type": "code",
   "execution_count": 26,
   "metadata": {},
   "outputs": [],
   "source": [
    "%run train.py --device=0 --dataset=CS --batch_size=32 --epochs=100  --gnn_layers 1024 1024 --mlp_layers=128 --gnn_drop_p=0.5 --mlp_drop_p=0.5 \\\n",
    "    --lr_gnn=1e-5 --lr_vg=1e-4 --lr_cls=5e-3 --wd_cls=1e-5 --cls_epoch=500 --lambda_norm=10 --runs=1"
   ]
  },
  {
   "cell_type": "code",
   "execution_count": null,
   "metadata": {},
   "outputs": [],
   "source": [
    "%run train.py --device=1 --dataset=Physics --batch_size=32 --epochs=100  --gnn_layers 1024 1024 --mlp_layers=128 --gnn_drop_p=0.5 --mlp_drop_p=0.5 \\\n",
    "    --lr_gnn=1e-5 --lr_vg=1e-4 --lr_cls=1e-2 --wd_cls=1e-5 --cls_epoch=500 --lambda_norm=10 --runs=1"
   ]
  },
  {
   "cell_type": "markdown",
   "metadata": {},
   "source": [
    "#### Graph classification"
   ]
  },
  {
   "cell_type": "code",
   "execution_count": 18,
   "metadata": {},
   "outputs": [
    {
     "name": "stdout",
     "output_type": "stream",
     "text": [
      "Namespace(batch_size=16, cls_epochs=200, data_path='~/data/pygdata/', dataset_name='REDDIT-BINARY', device='cuda:0', epochs=20, gnn_drop_p=0.1, gnn_emb_dim=256, gnn_layers=[64, 64, 64, 64], lambda_norm=0, load_model_path='checkpoints/fast-gcl-20220114/model/run01epoch001.pth', load_triplet_path='checkpoints/fast-gcl-20220114/result/run01epoch001_triplet.pth', log_steps=1, lr_cls=0.01, lr_gnn=1e-05, lr_vg=0.01, mask_path='./mask', mlp_drop_p=0.5, mlp_layers=[128], model_dir='checkpoints/reddit-binary_fast-gcl-220114/model', num_layers=4, result_dir='checkpoints/reddit-binary_fast-gcl-220114/result', runs=1, save_model=False, save_suffix='fast-gcl-220114', seed=123, task='graph classification', wd_cls=0.0005, wd_gnn=0.0005, wd_vg=0.0005)\n"
     ]
    },
    {
     "name": "stderr",
     "output_type": "stream",
     "text": [
      "Embedding learning ... : 100%|██████████| 125/125 [00:03<00:00, 39.59it/s]\n",
      "Graph Readout ... : 100%|██████████| 125/125 [00:01<00:00, 119.47it/s]\n"
     ]
    },
    {
     "name": "stdout",
     "output_type": "stream",
     "text": [
      "Run: 01, Epoch: 01, Loss: 1.1755, Test: 79.05%\n"
     ]
    },
    {
     "name": "stderr",
     "output_type": "stream",
     "text": [
      "Embedding learning ... : 100%|██████████| 125/125 [00:02<00:00, 42.03it/s]\n",
      "Graph Readout ... : 100%|██████████| 125/125 [00:01<00:00, 117.08it/s]\n"
     ]
    },
    {
     "name": "stdout",
     "output_type": "stream",
     "text": [
      "Run: 01, Epoch: 02, Loss: 1.1698, Test: 77.15%\n"
     ]
    },
    {
     "name": "stderr",
     "output_type": "stream",
     "text": [
      "Embedding learning ... : 100%|██████████| 125/125 [00:02<00:00, 41.94it/s]\n",
      "Graph Readout ... : 100%|██████████| 125/125 [00:01<00:00, 119.23it/s]\n"
     ]
    },
    {
     "name": "stdout",
     "output_type": "stream",
     "text": [
      "Run: 01, Epoch: 03, Loss: 1.1656, Test: 82.05%\n"
     ]
    },
    {
     "name": "stderr",
     "output_type": "stream",
     "text": [
      "Embedding learning ... : 100%|██████████| 125/125 [00:03<00:00, 40.41it/s]\n",
      "Graph Readout ... : 100%|██████████| 125/125 [00:01<00:00, 119.06it/s]\n"
     ]
    },
    {
     "name": "stdout",
     "output_type": "stream",
     "text": [
      "Run: 01, Epoch: 04, Loss: 1.1575, Test: 81.00%\n"
     ]
    },
    {
     "name": "stderr",
     "output_type": "stream",
     "text": [
      "Embedding learning ... : 100%|██████████| 125/125 [00:02<00:00, 41.73it/s]\n",
      "Graph Readout ... : 100%|██████████| 125/125 [00:01<00:00, 119.24it/s]\n"
     ]
    },
    {
     "name": "stdout",
     "output_type": "stream",
     "text": [
      "Run: 01, Epoch: 05, Loss: 1.1587, Test: 84.35%\n"
     ]
    },
    {
     "name": "stderr",
     "output_type": "stream",
     "text": [
      "Embedding learning ... : 100%|██████████| 125/125 [00:03<00:00, 38.25it/s]\n",
      "Graph Readout ... : 100%|██████████| 125/125 [00:01<00:00, 99.26it/s] \n"
     ]
    },
    {
     "name": "stdout",
     "output_type": "stream",
     "text": [
      "Run: 01, Epoch: 06, Loss: 1.1531, Test: 77.70%\n"
     ]
    },
    {
     "name": "stderr",
     "output_type": "stream",
     "text": [
      "Embedding learning ... : 100%|██████████| 125/125 [00:03<00:00, 37.06it/s]\n",
      "Graph Readout ... : 100%|██████████| 125/125 [00:01<00:00, 114.18it/s]\n"
     ]
    },
    {
     "name": "stdout",
     "output_type": "stream",
     "text": [
      "Run: 01, Epoch: 07, Loss: 1.1469, Test: 79.05%\n"
     ]
    },
    {
     "name": "stderr",
     "output_type": "stream",
     "text": [
      "Embedding learning ... : 100%|██████████| 125/125 [00:03<00:00, 37.27it/s]\n",
      "Graph Readout ... : 100%|██████████| 125/125 [00:01<00:00, 118.76it/s]\n"
     ]
    },
    {
     "name": "stdout",
     "output_type": "stream",
     "text": [
      "Run: 01, Epoch: 08, Loss: 1.1467, Test: 81.45%\n"
     ]
    },
    {
     "name": "stderr",
     "output_type": "stream",
     "text": [
      "Embedding learning ... : 100%|██████████| 125/125 [00:03<00:00, 36.90it/s]\n",
      "Graph Readout ... : 100%|██████████| 125/125 [00:01<00:00, 90.68it/s] \n"
     ]
    },
    {
     "name": "stdout",
     "output_type": "stream",
     "text": [
      "Run: 01, Epoch: 09, Loss: 1.1427, Test: 81.20%\n"
     ]
    },
    {
     "name": "stderr",
     "output_type": "stream",
     "text": [
      "Embedding learning ... : 100%|██████████| 125/125 [00:03<00:00, 38.94it/s]\n",
      "Graph Readout ... : 100%|██████████| 125/125 [00:01<00:00, 106.66it/s]\n"
     ]
    },
    {
     "name": "stdout",
     "output_type": "stream",
     "text": [
      "Run: 01, Epoch: 10, Loss: 1.1395, Test: 78.00%\n"
     ]
    },
    {
     "name": "stderr",
     "output_type": "stream",
     "text": [
      "Embedding learning ... : 100%|██████████| 125/125 [00:03<00:00, 37.14it/s]\n",
      "Graph Readout ... : 100%|██████████| 125/125 [00:01<00:00, 113.95it/s]\n"
     ]
    },
    {
     "name": "stdout",
     "output_type": "stream",
     "text": [
      "Run: 01, Epoch: 11, Loss: 1.1372, Test: 75.45%\n"
     ]
    },
    {
     "name": "stderr",
     "output_type": "stream",
     "text": [
      "Embedding learning ... : 100%|██████████| 125/125 [00:03<00:00, 38.32it/s]\n",
      "Graph Readout ... : 100%|██████████| 125/125 [00:01<00:00, 108.21it/s]\n"
     ]
    },
    {
     "name": "stdout",
     "output_type": "stream",
     "text": [
      "Run: 01, Epoch: 12, Loss: 1.1280, Test: 79.30%\n"
     ]
    },
    {
     "name": "stderr",
     "output_type": "stream",
     "text": [
      "Embedding learning ... : 100%|██████████| 125/125 [00:03<00:00, 38.25it/s]\n",
      "Graph Readout ... : 100%|██████████| 125/125 [00:01<00:00, 108.21it/s]\n"
     ]
    },
    {
     "name": "stdout",
     "output_type": "stream",
     "text": [
      "Run: 01, Epoch: 13, Loss: 1.1294, Test: 79.70%\n"
     ]
    },
    {
     "name": "stderr",
     "output_type": "stream",
     "text": [
      "Embedding learning ... : 100%|██████████| 125/125 [00:03<00:00, 39.08it/s]\n",
      "Graph Readout ... : 100%|██████████| 125/125 [00:01<00:00, 116.58it/s]\n"
     ]
    },
    {
     "name": "stdout",
     "output_type": "stream",
     "text": [
      "Run: 01, Epoch: 14, Loss: 1.1216, Test: 82.70%\n"
     ]
    },
    {
     "name": "stderr",
     "output_type": "stream",
     "text": [
      "Embedding learning ... : 100%|██████████| 125/125 [00:03<00:00, 38.60it/s]\n",
      "Graph Readout ... : 100%|██████████| 125/125 [00:01<00:00, 79.59it/s]\n"
     ]
    },
    {
     "name": "stdout",
     "output_type": "stream",
     "text": [
      "Run: 01, Epoch: 15, Loss: 1.1224, Test: 83.05%\n"
     ]
    },
    {
     "name": "stderr",
     "output_type": "stream",
     "text": [
      "Embedding learning ... : 100%|██████████| 125/125 [00:03<00:00, 37.36it/s]\n",
      "Graph Readout ... : 100%|██████████| 125/125 [00:01<00:00, 114.96it/s]\n"
     ]
    },
    {
     "name": "stdout",
     "output_type": "stream",
     "text": [
      "Run: 01, Epoch: 16, Loss: 1.1171, Test: 80.40%\n"
     ]
    },
    {
     "name": "stderr",
     "output_type": "stream",
     "text": [
      "Embedding learning ... : 100%|██████████| 125/125 [00:03<00:00, 38.43it/s]\n",
      "Graph Readout ... : 100%|██████████| 125/125 [00:01<00:00, 117.80it/s]\n"
     ]
    },
    {
     "name": "stdout",
     "output_type": "stream",
     "text": [
      "Run: 01, Epoch: 17, Loss: 1.1015, Test: 85.35%\n"
     ]
    },
    {
     "name": "stderr",
     "output_type": "stream",
     "text": [
      "Embedding learning ... : 100%|██████████| 125/125 [00:03<00:00, 38.36it/s]\n",
      "Graph Readout ... : 100%|██████████| 125/125 [00:01<00:00, 111.05it/s]\n"
     ]
    },
    {
     "name": "stdout",
     "output_type": "stream",
     "text": [
      "Run: 01, Epoch: 18, Loss: 1.1025, Test: 79.35%\n"
     ]
    },
    {
     "name": "stderr",
     "output_type": "stream",
     "text": [
      "Embedding learning ... : 100%|██████████| 125/125 [00:03<00:00, 37.56it/s]\n",
      "Graph Readout ... : 100%|██████████| 125/125 [00:01<00:00, 109.46it/s]\n"
     ]
    },
    {
     "name": "stdout",
     "output_type": "stream",
     "text": [
      "Run: 01, Epoch: 19, Loss: 1.1047, Test: 76.45%\n"
     ]
    },
    {
     "name": "stderr",
     "output_type": "stream",
     "text": [
      "Embedding learning ... : 100%|██████████| 125/125 [00:03<00:00, 38.88it/s]\n",
      "Graph Readout ... : 100%|██████████| 125/125 [00:01<00:00, 110.73it/s]\n"
     ]
    },
    {
     "name": "stdout",
     "output_type": "stream",
     "text": [
      "Run: 01, Epoch: 20, Loss: 1.1036, Test: 79.40%\n",
      "==========Run 01 Graph classification==========\n",
      "Final Test: 85.35%\n",
      "==========Run 01 Graph classification==========\n",
      "==========All Runs Graph classification==========\n",
      "Final Test: 85.35 ± 0.00\n"
     ]
    }
   ],
   "source": [
    "%run train.py --device=0 --dataset=REDDIT-BINARY --batch_size=16 --gnn_layers 64 64 64 64 --mlp_layers=128 --gnn_drop_p=0.1 --mlp_drop_p=0.5 \\\n",
    "    --lr_gnn=1e-5 --lr_vg=0.01 --lr_cls=0.01 --runs=1"
   ]
  },
  {
   "cell_type": "code",
   "execution_count": 20,
   "metadata": {},
   "outputs": [
    {
     "name": "stdout",
     "output_type": "stream",
     "text": [
      "Namespace(batch_size=16, cls_epochs=200, data_path='~/data/pygdata/', dataset_name='PROTEINS', device='cuda:0', epochs=20, gnn_drop_p=0.5, gnn_emb_dim=192, gnn_layers=[64, 64, 64], lambda_norm=0, load_model_path='checkpoints/fast-gcl-20220114/model/run01epoch001.pth', load_triplet_path='checkpoints/fast-gcl-20220114/result/run01epoch001_triplet.pth', log_steps=1, lr_cls=0.01, lr_gnn=0.01, lr_vg=0.01, mask_path='./mask', mlp_drop_p=0.5, mlp_layers=[128], model_dir='checkpoints/proteins_fast-gcl-220114/model', num_layers=3, result_dir='checkpoints/proteins_fast-gcl-220114/result', runs=1, save_model=False, save_suffix='fast-gcl-220114', seed=123, task='graph classification', wd_cls=0.0005, wd_gnn=0.05, wd_vg=0.0005)\n"
     ]
    },
    {
     "name": "stderr",
     "output_type": "stream",
     "text": [
      "Embedding learning ... : 100%|██████████| 70/70 [00:01<00:00, 51.37it/s]\n",
      "Graph Readout ... : 100%|██████████| 70/70 [00:00<00:00, 136.96it/s]\n"
     ]
    },
    {
     "name": "stdout",
     "output_type": "stream",
     "text": [
      "Run: 01, Epoch: 01, Loss: 1.2165, Test: 67.93%\n"
     ]
    },
    {
     "name": "stderr",
     "output_type": "stream",
     "text": [
      "Embedding learning ... : 100%|██████████| 70/70 [00:01<00:00, 54.76it/s]\n",
      "Graph Readout ... : 100%|██████████| 70/70 [00:00<00:00, 172.11it/s]\n"
     ]
    },
    {
     "name": "stdout",
     "output_type": "stream",
     "text": [
      "Run: 01, Epoch: 02, Loss: 1.0346, Test: 75.38%\n"
     ]
    },
    {
     "name": "stderr",
     "output_type": "stream",
     "text": [
      "Embedding learning ... : 100%|██████████| 70/70 [00:01<00:00, 47.42it/s]\n",
      "Graph Readout ... : 100%|██████████| 70/70 [00:00<00:00, 151.34it/s]\n"
     ]
    },
    {
     "name": "stdout",
     "output_type": "stream",
     "text": [
      "Run: 01, Epoch: 03, Loss: 0.8954, Test: 74.03%\n"
     ]
    },
    {
     "name": "stderr",
     "output_type": "stream",
     "text": [
      "Embedding learning ... : 100%|██████████| 70/70 [00:01<00:00, 51.67it/s]\n",
      "Graph Readout ... : 100%|██████████| 70/70 [00:00<00:00, 140.69it/s]\n"
     ]
    },
    {
     "name": "stdout",
     "output_type": "stream",
     "text": [
      "Run: 01, Epoch: 04, Loss: 0.8354, Test: 74.84%\n"
     ]
    },
    {
     "name": "stderr",
     "output_type": "stream",
     "text": [
      "Embedding learning ... : 100%|██████████| 70/70 [00:01<00:00, 54.07it/s]\n",
      "Graph Readout ... : 100%|██████████| 70/70 [00:00<00:00, 164.52it/s]\n"
     ]
    },
    {
     "name": "stdout",
     "output_type": "stream",
     "text": [
      "Run: 01, Epoch: 05, Loss: 0.8943, Test: 74.49%\n"
     ]
    },
    {
     "name": "stderr",
     "output_type": "stream",
     "text": [
      "Embedding learning ... : 100%|██████████| 70/70 [00:01<00:00, 55.23it/s]\n",
      "Graph Readout ... : 100%|██████████| 70/70 [00:00<00:00, 162.66it/s]\n"
     ]
    },
    {
     "name": "stdout",
     "output_type": "stream",
     "text": [
      "Run: 01, Epoch: 06, Loss: 0.8387, Test: 73.76%\n"
     ]
    },
    {
     "name": "stderr",
     "output_type": "stream",
     "text": [
      "Embedding learning ... : 100%|██████████| 70/70 [00:01<00:00, 55.81it/s]\n",
      "Graph Readout ... : 100%|██████████| 70/70 [00:00<00:00, 169.11it/s]\n"
     ]
    },
    {
     "name": "stdout",
     "output_type": "stream",
     "text": [
      "Run: 01, Epoch: 07, Loss: 0.8144, Test: 73.67%\n"
     ]
    },
    {
     "name": "stderr",
     "output_type": "stream",
     "text": [
      "Embedding learning ... : 100%|██████████| 70/70 [00:01<00:00, 54.86it/s]\n",
      "Graph Readout ... : 100%|██████████| 70/70 [00:00<00:00, 172.19it/s]\n"
     ]
    },
    {
     "name": "stdout",
     "output_type": "stream",
     "text": [
      "Run: 01, Epoch: 08, Loss: 0.8073, Test: 73.31%\n"
     ]
    },
    {
     "name": "stderr",
     "output_type": "stream",
     "text": [
      "Embedding learning ... : 100%|██████████| 70/70 [00:01<00:00, 55.32it/s]\n",
      "Graph Readout ... : 100%|██████████| 70/70 [00:00<00:00, 164.83it/s]\n"
     ]
    },
    {
     "name": "stdout",
     "output_type": "stream",
     "text": [
      "Run: 01, Epoch: 09, Loss: 0.7920, Test: 74.13%\n"
     ]
    },
    {
     "name": "stderr",
     "output_type": "stream",
     "text": [
      "Embedding learning ... : 100%|██████████| 70/70 [00:01<00:00, 55.13it/s]\n",
      "Graph Readout ... : 100%|██████████| 70/70 [00:00<00:00, 172.39it/s]\n"
     ]
    },
    {
     "name": "stdout",
     "output_type": "stream",
     "text": [
      "Run: 01, Epoch: 10, Loss: 0.8234, Test: 73.50%\n"
     ]
    },
    {
     "name": "stderr",
     "output_type": "stream",
     "text": [
      "Embedding learning ... : 100%|██████████| 70/70 [00:01<00:00, 54.06it/s]\n",
      "Graph Readout ... : 100%|██████████| 70/70 [00:00<00:00, 155.25it/s]\n"
     ]
    },
    {
     "name": "stdout",
     "output_type": "stream",
     "text": [
      "Run: 01, Epoch: 11, Loss: 0.7893, Test: 73.77%\n"
     ]
    },
    {
     "name": "stderr",
     "output_type": "stream",
     "text": [
      "Embedding learning ... : 100%|██████████| 70/70 [00:01<00:00, 52.05it/s]\n",
      "Graph Readout ... : 100%|██████████| 70/70 [00:00<00:00, 168.52it/s]\n"
     ]
    },
    {
     "name": "stdout",
     "output_type": "stream",
     "text": [
      "Run: 01, Epoch: 12, Loss: 0.7813, Test: 73.41%\n"
     ]
    },
    {
     "name": "stderr",
     "output_type": "stream",
     "text": [
      "Embedding learning ... : 100%|██████████| 70/70 [00:01<00:00, 50.73it/s]\n",
      "Graph Readout ... : 100%|██████████| 70/70 [00:00<00:00, 158.92it/s]\n"
     ]
    },
    {
     "name": "stdout",
     "output_type": "stream",
     "text": [
      "Run: 01, Epoch: 13, Loss: 0.8382, Test: 74.22%\n"
     ]
    },
    {
     "name": "stderr",
     "output_type": "stream",
     "text": [
      "Embedding learning ... : 100%|██████████| 70/70 [00:01<00:00, 54.46it/s]\n",
      "Graph Readout ... : 100%|██████████| 70/70 [00:00<00:00, 174.78it/s]\n"
     ]
    },
    {
     "name": "stdout",
     "output_type": "stream",
     "text": [
      "Run: 01, Epoch: 14, Loss: 0.8367, Test: 74.12%\n"
     ]
    },
    {
     "name": "stderr",
     "output_type": "stream",
     "text": [
      "Embedding learning ... : 100%|██████████| 70/70 [00:01<00:00, 54.74it/s]\n",
      "Graph Readout ... : 100%|██████████| 70/70 [00:00<00:00, 164.58it/s]\n"
     ]
    },
    {
     "name": "stdout",
     "output_type": "stream",
     "text": [
      "Run: 01, Epoch: 15, Loss: 0.8424, Test: 72.15%\n"
     ]
    },
    {
     "name": "stderr",
     "output_type": "stream",
     "text": [
      "Embedding learning ... : 100%|██████████| 70/70 [00:01<00:00, 53.55it/s]\n",
      "Graph Readout ... : 100%|██████████| 70/70 [00:00<00:00, 172.45it/s]\n"
     ]
    },
    {
     "name": "stdout",
     "output_type": "stream",
     "text": [
      "Run: 01, Epoch: 16, Loss: 0.8146, Test: 72.69%\n"
     ]
    },
    {
     "name": "stderr",
     "output_type": "stream",
     "text": [
      "Embedding learning ... : 100%|██████████| 70/70 [00:01<00:00, 51.85it/s]\n",
      "Graph Readout ... : 100%|██████████| 70/70 [00:00<00:00, 174.34it/s]\n"
     ]
    },
    {
     "name": "stdout",
     "output_type": "stream",
     "text": [
      "Run: 01, Epoch: 17, Loss: 0.8195, Test: 72.33%\n"
     ]
    },
    {
     "name": "stderr",
     "output_type": "stream",
     "text": [
      "Embedding learning ... : 100%|██████████| 70/70 [00:01<00:00, 55.11it/s]\n",
      "Graph Readout ... : 100%|██████████| 70/70 [00:00<00:00, 165.85it/s]\n"
     ]
    },
    {
     "name": "stdout",
     "output_type": "stream",
     "text": [
      "Run: 01, Epoch: 18, Loss: 0.7808, Test: 71.51%\n"
     ]
    },
    {
     "name": "stderr",
     "output_type": "stream",
     "text": [
      "Embedding learning ... : 100%|██████████| 70/70 [00:01<00:00, 55.58it/s]\n",
      "Graph Readout ... : 100%|██████████| 70/70 [00:00<00:00, 159.83it/s]\n"
     ]
    },
    {
     "name": "stdout",
     "output_type": "stream",
     "text": [
      "Run: 01, Epoch: 19, Loss: 0.8175, Test: 71.87%\n"
     ]
    },
    {
     "name": "stderr",
     "output_type": "stream",
     "text": [
      "Embedding learning ... : 100%|██████████| 70/70 [00:01<00:00, 56.88it/s]\n",
      "Graph Readout ... : 100%|██████████| 70/70 [00:00<00:00, 168.92it/s]\n"
     ]
    },
    {
     "name": "stdout",
     "output_type": "stream",
     "text": [
      "Run: 01, Epoch: 20, Loss: 0.8215, Test: 72.15%\n",
      "==========Run 01 Graph classification==========\n",
      "Final Test: 75.38%\n",
      "==========Run 01 Graph classification==========\n",
      "==========All Runs Graph classification==========\n",
      "Final Test: 75.38 ± 0.00\n"
     ]
    }
   ],
   "source": [
    "%run train.py --device=0 --dataset=PROTEINS --batch_size=16 --gnn_layers 64 64 64 --mlp_layers=128 --gnn_drop_p=0.5 --mlp_drop_p=0.5 \\\n",
    "    --lr_gnn=0.01 --lr_vg=0.01 --lr_cls=0.01 --runs=1 --wd_gnn=0.05  "
   ]
  },
  {
   "cell_type": "code",
   "execution_count": 21,
   "metadata": {},
   "outputs": [
    {
     "name": "stdout",
     "output_type": "stream",
     "text": [
      "Namespace(batch_size=16, cls_epochs=200, data_path='~/data/pygdata/', dataset_name='DD', device='cuda:0', epochs=20, gnn_drop_p=0.5, gnn_emb_dim=256, gnn_layers=[64, 64, 64, 64], lambda_norm=0, load_model_path='checkpoints/fast-gcl-20220114/model/run01epoch001.pth', load_triplet_path='checkpoints/fast-gcl-20220114/result/run01epoch001_triplet.pth', log_steps=1, lr_cls=0.01, lr_gnn=0.01, lr_vg=0.01, mask_path='./mask', mlp_drop_p=0.5, mlp_layers=[128], model_dir='checkpoints/dd_fast-gcl-220114/model', num_layers=4, result_dir='checkpoints/dd_fast-gcl-220114/result', runs=1, save_model=False, save_suffix='fast-gcl-220114', seed=123, task='graph classification', wd_cls=0.0005, wd_gnn=0.05, wd_vg=0.0005)\n"
     ]
    },
    {
     "name": "stderr",
     "output_type": "stream",
     "text": [
      "Embedding learning ... : 100%|██████████| 74/74 [00:02<00:00, 32.62it/s]\n",
      "Graph Readout ... : 100%|██████████| 74/74 [00:00<00:00, 95.84it/s]\n"
     ]
    },
    {
     "name": "stdout",
     "output_type": "stream",
     "text": [
      "Run: 01, Epoch: 01, Loss: 0.9856, Test: 63.93%\n"
     ]
    },
    {
     "name": "stderr",
     "output_type": "stream",
     "text": [
      "Embedding learning ... : 100%|██████████| 74/74 [00:01<00:00, 37.34it/s]\n",
      "Graph Readout ... : 100%|██████████| 74/74 [00:00<00:00, 83.16it/s]\n"
     ]
    },
    {
     "name": "stdout",
     "output_type": "stream",
     "text": [
      "Run: 01, Epoch: 02, Loss: 0.8824, Test: 64.10%\n"
     ]
    },
    {
     "name": "stderr",
     "output_type": "stream",
     "text": [
      "Embedding learning ... : 100%|██████████| 74/74 [00:02<00:00, 36.70it/s]\n",
      "Graph Readout ... : 100%|██████████| 74/74 [00:00<00:00, 89.33it/s]\n"
     ]
    },
    {
     "name": "stdout",
     "output_type": "stream",
     "text": [
      "Run: 01, Epoch: 03, Loss: 0.8670, Test: 72.15%\n"
     ]
    },
    {
     "name": "stderr",
     "output_type": "stream",
     "text": [
      "Embedding learning ... : 100%|██████████| 74/74 [00:01<00:00, 37.86it/s]\n",
      "Graph Readout ... : 100%|██████████| 74/74 [00:00<00:00, 91.26it/s]\n"
     ]
    },
    {
     "name": "stdout",
     "output_type": "stream",
     "text": [
      "Run: 01, Epoch: 04, Loss: 0.8552, Test: 75.29%\n"
     ]
    },
    {
     "name": "stderr",
     "output_type": "stream",
     "text": [
      "Embedding learning ... : 100%|██████████| 74/74 [00:01<00:00, 37.42it/s]\n",
      "Graph Readout ... : 100%|██████████| 74/74 [00:00<00:00, 94.95it/s]\n"
     ]
    },
    {
     "name": "stdout",
     "output_type": "stream",
     "text": [
      "Run: 01, Epoch: 05, Loss: 0.8407, Test: 75.72%\n"
     ]
    },
    {
     "name": "stderr",
     "output_type": "stream",
     "text": [
      "Embedding learning ... : 100%|██████████| 74/74 [00:01<00:00, 37.07it/s]\n",
      "Graph Readout ... : 100%|██████████| 74/74 [00:00<00:00, 98.86it/s] \n"
     ]
    },
    {
     "name": "stdout",
     "output_type": "stream",
     "text": [
      "Run: 01, Epoch: 06, Loss: 0.8524, Test: 75.64%\n"
     ]
    },
    {
     "name": "stderr",
     "output_type": "stream",
     "text": [
      "Embedding learning ... : 100%|██████████| 74/74 [00:01<00:00, 38.21it/s]\n",
      "Graph Readout ... : 100%|██████████| 74/74 [00:00<00:00, 89.56it/s]\n"
     ]
    },
    {
     "name": "stdout",
     "output_type": "stream",
     "text": [
      "Run: 01, Epoch: 07, Loss: 0.8508, Test: 76.23%\n"
     ]
    },
    {
     "name": "stderr",
     "output_type": "stream",
     "text": [
      "Embedding learning ... : 100%|██████████| 74/74 [00:02<00:00, 36.86it/s]\n",
      "Graph Readout ... : 100%|██████████| 74/74 [00:00<00:00, 99.82it/s] \n"
     ]
    },
    {
     "name": "stdout",
     "output_type": "stream",
     "text": [
      "Run: 01, Epoch: 08, Loss: 0.8431, Test: 76.32%\n"
     ]
    },
    {
     "name": "stderr",
     "output_type": "stream",
     "text": [
      "Embedding learning ... : 100%|██████████| 74/74 [00:01<00:00, 37.75it/s]\n",
      "Graph Readout ... : 100%|██████████| 74/74 [00:00<00:00, 98.42it/s]\n"
     ]
    },
    {
     "name": "stdout",
     "output_type": "stream",
     "text": [
      "Run: 01, Epoch: 09, Loss: 0.8399, Test: 76.24%\n"
     ]
    },
    {
     "name": "stderr",
     "output_type": "stream",
     "text": [
      "Embedding learning ... : 100%|██████████| 74/74 [00:01<00:00, 38.18it/s]\n",
      "Graph Readout ... : 100%|██████████| 74/74 [00:00<00:00, 93.14it/s]\n"
     ]
    },
    {
     "name": "stdout",
     "output_type": "stream",
     "text": [
      "Run: 01, Epoch: 10, Loss: 0.8611, Test: 75.89%\n"
     ]
    },
    {
     "name": "stderr",
     "output_type": "stream",
     "text": [
      "Embedding learning ... : 100%|██████████| 74/74 [00:02<00:00, 36.06it/s]\n",
      "Graph Readout ... : 100%|██████████| 74/74 [00:00<00:00, 95.29it/s] \n"
     ]
    },
    {
     "name": "stdout",
     "output_type": "stream",
     "text": [
      "Run: 01, Epoch: 11, Loss: 0.8368, Test: 74.11%\n"
     ]
    },
    {
     "name": "stderr",
     "output_type": "stream",
     "text": [
      "Embedding learning ... : 100%|██████████| 74/74 [00:02<00:00, 36.58it/s]\n",
      "Graph Readout ... : 100%|██████████| 74/74 [00:00<00:00, 90.13it/s]\n"
     ]
    },
    {
     "name": "stdout",
     "output_type": "stream",
     "text": [
      "Run: 01, Epoch: 12, Loss: 0.8425, Test: 75.29%\n"
     ]
    },
    {
     "name": "stderr",
     "output_type": "stream",
     "text": [
      "Embedding learning ... : 100%|██████████| 74/74 [00:01<00:00, 37.46it/s]\n",
      "Graph Readout ... : 100%|██████████| 74/74 [00:00<00:00, 97.57it/s]\n"
     ]
    },
    {
     "name": "stdout",
     "output_type": "stream",
     "text": [
      "Run: 01, Epoch: 13, Loss: 0.8291, Test: 76.06%\n"
     ]
    },
    {
     "name": "stderr",
     "output_type": "stream",
     "text": [
      "Embedding learning ... : 100%|██████████| 74/74 [00:01<00:00, 37.32it/s]\n",
      "Graph Readout ... : 100%|██████████| 74/74 [00:00<00:00, 92.35it/s] \n"
     ]
    },
    {
     "name": "stdout",
     "output_type": "stream",
     "text": [
      "Run: 01, Epoch: 14, Loss: 0.8497, Test: 76.74%\n"
     ]
    },
    {
     "name": "stderr",
     "output_type": "stream",
     "text": [
      "Embedding learning ... : 100%|██████████| 74/74 [00:02<00:00, 36.20it/s]\n",
      "Graph Readout ... : 100%|██████████| 74/74 [00:00<00:00, 97.24it/s] \n"
     ]
    },
    {
     "name": "stdout",
     "output_type": "stream",
     "text": [
      "Run: 01, Epoch: 15, Loss: 0.8515, Test: 76.48%\n"
     ]
    },
    {
     "name": "stderr",
     "output_type": "stream",
     "text": [
      "Embedding learning ... : 100%|██████████| 74/74 [00:01<00:00, 38.87it/s]\n",
      "Graph Readout ... : 100%|██████████| 74/74 [00:00<00:00, 80.80it/s]\n"
     ]
    },
    {
     "name": "stdout",
     "output_type": "stream",
     "text": [
      "Run: 01, Epoch: 16, Loss: 0.8546, Test: 75.21%\n"
     ]
    },
    {
     "name": "stderr",
     "output_type": "stream",
     "text": [
      "Embedding learning ... : 100%|██████████| 74/74 [00:01<00:00, 37.72it/s]\n",
      "Graph Readout ... : 100%|██████████| 74/74 [00:00<00:00, 94.85it/s]\n"
     ]
    },
    {
     "name": "stdout",
     "output_type": "stream",
     "text": [
      "Run: 01, Epoch: 17, Loss: 0.8505, Test: 76.49%\n"
     ]
    },
    {
     "name": "stderr",
     "output_type": "stream",
     "text": [
      "Embedding learning ... : 100%|██████████| 74/74 [00:01<00:00, 38.63it/s]\n",
      "Graph Readout ... : 100%|██████████| 74/74 [00:00<00:00, 98.11it/s] \n"
     ]
    },
    {
     "name": "stdout",
     "output_type": "stream",
     "text": [
      "Run: 01, Epoch: 18, Loss: 0.8574, Test: 75.80%\n"
     ]
    },
    {
     "name": "stderr",
     "output_type": "stream",
     "text": [
      "Embedding learning ... : 100%|██████████| 74/74 [00:01<00:00, 38.27it/s]\n",
      "Graph Readout ... : 100%|██████████| 74/74 [00:00<00:00, 95.30it/s] \n"
     ]
    },
    {
     "name": "stdout",
     "output_type": "stream",
     "text": [
      "Run: 01, Epoch: 19, Loss: 0.8509, Test: 75.55%\n"
     ]
    },
    {
     "name": "stderr",
     "output_type": "stream",
     "text": [
      "Embedding learning ... : 100%|██████████| 74/74 [00:01<00:00, 38.32it/s]\n",
      "Graph Readout ... : 100%|██████████| 74/74 [00:00<00:00, 96.24it/s]\n"
     ]
    },
    {
     "name": "stdout",
     "output_type": "stream",
     "text": [
      "Run: 01, Epoch: 20, Loss: 0.8394, Test: 76.74%\n",
      "==========Run 01 Graph classification==========\n",
      "Final Test: 76.74%\n",
      "==========Run 01 Graph classification==========\n",
      "==========All Runs Graph classification==========\n",
      "Final Test: 76.74 ± 0.00\n"
     ]
    }
   ],
   "source": [
    "%run train.py --device=0 --dataset=DD --batch_size=16 --gnn_layers 64 64 64 64 --mlp_layers=128 --gnn_drop_p=0.5 --mlp_drop_p=0.5 \\\n",
    "    --lr_gnn=0.01 --lr_vg=0.01 --lr_cls=0.01 --wd_gnn=0.05  --runs=1"
   ]
  },
  {
   "cell_type": "code",
   "execution_count": 22,
   "metadata": {},
   "outputs": [
    {
     "name": "stdout",
     "output_type": "stream",
     "text": [
      "Namespace(batch_size=16, cls_epochs=200, data_path='~/data/pygdata/', dataset_name='NCI1', device='cuda:0', epochs=20, gnn_drop_p=0.5, gnn_emb_dim=128, gnn_layers=[64, 64], lambda_norm=0, load_model_path='checkpoints/fast-gcl-20220114/model/run01epoch001.pth', load_triplet_path='checkpoints/fast-gcl-20220114/result/run01epoch001_triplet.pth', log_steps=1, lr_cls=0.01, lr_gnn=1e-07, lr_vg=0.01, mask_path='./mask', mlp_drop_p=0.5, mlp_layers=[128], model_dir='checkpoints/nci1_fast-gcl-220114/model', num_layers=2, result_dir='checkpoints/nci1_fast-gcl-220114/result', runs=1, save_model=False, save_suffix='fast-gcl-220114', seed=123, task='graph classification', wd_cls=0.0005, wd_gnn=0.0005, wd_vg=0.0005)\n"
     ]
    },
    {
     "name": "stderr",
     "output_type": "stream",
     "text": [
      "Embedding learning ... : 100%|██████████| 257/257 [00:04<00:00, 58.52it/s]\n",
      "Graph Readout ... : 100%|██████████| 257/257 [00:01<00:00, 182.62it/s]\n"
     ]
    },
    {
     "name": "stdout",
     "output_type": "stream",
     "text": [
      "Run: 01, Epoch: 01, Loss: 1.3147, Test: 72.99%\n"
     ]
    },
    {
     "name": "stderr",
     "output_type": "stream",
     "text": [
      "Embedding learning ... : 100%|██████████| 257/257 [00:03<00:00, 65.91it/s]\n",
      "Graph Readout ... : 100%|██████████| 257/257 [00:01<00:00, 192.17it/s]\n"
     ]
    },
    {
     "name": "stdout",
     "output_type": "stream",
     "text": [
      "Run: 01, Epoch: 02, Loss: 1.3163, Test: 70.15%\n"
     ]
    },
    {
     "name": "stderr",
     "output_type": "stream",
     "text": [
      "Embedding learning ... : 100%|██████████| 257/257 [00:04<00:00, 62.92it/s]\n",
      "Graph Readout ... : 100%|██████████| 257/257 [00:01<00:00, 179.57it/s]\n"
     ]
    },
    {
     "name": "stdout",
     "output_type": "stream",
     "text": [
      "Run: 01, Epoch: 03, Loss: 1.3152, Test: 72.48%\n"
     ]
    },
    {
     "name": "stderr",
     "output_type": "stream",
     "text": [
      "Embedding learning ... : 100%|██████████| 257/257 [00:03<00:00, 69.48it/s]\n",
      "Graph Readout ... : 100%|██████████| 257/257 [00:01<00:00, 187.82it/s]\n"
     ]
    },
    {
     "name": "stdout",
     "output_type": "stream",
     "text": [
      "Run: 01, Epoch: 04, Loss: 1.3151, Test: 73.02%\n"
     ]
    },
    {
     "name": "stderr",
     "output_type": "stream",
     "text": [
      "Embedding learning ... : 100%|██████████| 257/257 [00:03<00:00, 68.23it/s]\n",
      "Graph Readout ... : 100%|██████████| 257/257 [00:01<00:00, 188.66it/s]\n"
     ]
    },
    {
     "name": "stdout",
     "output_type": "stream",
     "text": [
      "Run: 01, Epoch: 05, Loss: 1.3165, Test: 73.43%\n"
     ]
    },
    {
     "name": "stderr",
     "output_type": "stream",
     "text": [
      "Embedding learning ... : 100%|██████████| 257/257 [00:03<00:00, 69.14it/s]\n",
      "Graph Readout ... : 100%|██████████| 257/257 [00:01<00:00, 172.00it/s]\n"
     ]
    },
    {
     "name": "stdout",
     "output_type": "stream",
     "text": [
      "Run: 01, Epoch: 06, Loss: 1.3145, Test: 73.36%\n"
     ]
    },
    {
     "name": "stderr",
     "output_type": "stream",
     "text": [
      "Embedding learning ... : 100%|██████████| 257/257 [00:04<00:00, 63.78it/s]\n",
      "Graph Readout ... : 100%|██████████| 257/257 [00:01<00:00, 188.74it/s]\n"
     ]
    },
    {
     "name": "stdout",
     "output_type": "stream",
     "text": [
      "Run: 01, Epoch: 07, Loss: 1.3172, Test: 70.95%\n"
     ]
    },
    {
     "name": "stderr",
     "output_type": "stream",
     "text": [
      "Embedding learning ... : 100%|██████████| 257/257 [00:03<00:00, 70.86it/s]\n",
      "Graph Readout ... : 100%|██████████| 257/257 [00:01<00:00, 198.02it/s]\n"
     ]
    },
    {
     "name": "stdout",
     "output_type": "stream",
     "text": [
      "Run: 01, Epoch: 08, Loss: 1.3157, Test: 71.58%\n"
     ]
    },
    {
     "name": "stderr",
     "output_type": "stream",
     "text": [
      "Embedding learning ... : 100%|██████████| 257/257 [00:03<00:00, 67.97it/s]\n",
      "Graph Readout ... : 100%|██████████| 257/257 [00:01<00:00, 182.03it/s]\n"
     ]
    },
    {
     "name": "stdout",
     "output_type": "stream",
     "text": [
      "Run: 01, Epoch: 09, Loss: 1.3129, Test: 72.55%\n"
     ]
    },
    {
     "name": "stderr",
     "output_type": "stream",
     "text": [
      "Embedding learning ... : 100%|██████████| 257/257 [00:03<00:00, 70.23it/s]\n",
      "Graph Readout ... : 100%|██████████| 257/257 [00:01<00:00, 195.37it/s]\n"
     ]
    },
    {
     "name": "stdout",
     "output_type": "stream",
     "text": [
      "Run: 01, Epoch: 10, Loss: 1.3129, Test: 73.28%\n"
     ]
    },
    {
     "name": "stderr",
     "output_type": "stream",
     "text": [
      "Embedding learning ... : 100%|██████████| 257/257 [00:03<00:00, 69.25it/s]\n",
      "Graph Readout ... : 100%|██████████| 257/257 [00:01<00:00, 165.85it/s]\n"
     ]
    },
    {
     "name": "stdout",
     "output_type": "stream",
     "text": [
      "Run: 01, Epoch: 11, Loss: 1.3140, Test: 71.75%\n"
     ]
    },
    {
     "name": "stderr",
     "output_type": "stream",
     "text": [
      "Embedding learning ... : 100%|██████████| 257/257 [00:03<00:00, 68.83it/s]\n",
      "Graph Readout ... : 100%|██████████| 257/257 [00:01<00:00, 185.03it/s]\n"
     ]
    },
    {
     "name": "stdout",
     "output_type": "stream",
     "text": [
      "Run: 01, Epoch: 12, Loss: 1.3094, Test: 72.60%\n"
     ]
    },
    {
     "name": "stderr",
     "output_type": "stream",
     "text": [
      "Embedding learning ... : 100%|██████████| 257/257 [00:03<00:00, 67.10it/s]\n",
      "Graph Readout ... : 100%|██████████| 257/257 [00:01<00:00, 198.09it/s]\n"
     ]
    },
    {
     "name": "stdout",
     "output_type": "stream",
     "text": [
      "Run: 01, Epoch: 13, Loss: 1.3133, Test: 72.97%\n"
     ]
    },
    {
     "name": "stderr",
     "output_type": "stream",
     "text": [
      "Embedding learning ... : 100%|██████████| 257/257 [00:03<00:00, 66.92it/s]\n",
      "Graph Readout ... : 100%|██████████| 257/257 [00:01<00:00, 198.88it/s]\n"
     ]
    },
    {
     "name": "stdout",
     "output_type": "stream",
     "text": [
      "Run: 01, Epoch: 14, Loss: 1.3138, Test: 71.90%\n"
     ]
    },
    {
     "name": "stderr",
     "output_type": "stream",
     "text": [
      "Embedding learning ... : 100%|██████████| 257/257 [00:03<00:00, 69.71it/s]\n",
      "Graph Readout ... : 100%|██████████| 257/257 [00:01<00:00, 172.96it/s]\n"
     ]
    },
    {
     "name": "stdout",
     "output_type": "stream",
     "text": [
      "Run: 01, Epoch: 15, Loss: 1.3115, Test: 72.43%\n"
     ]
    },
    {
     "name": "stderr",
     "output_type": "stream",
     "text": [
      "Embedding learning ... : 100%|██████████| 257/257 [00:03<00:00, 68.19it/s]\n",
      "Graph Readout ... : 100%|██████████| 257/257 [00:01<00:00, 159.34it/s]\n"
     ]
    },
    {
     "name": "stdout",
     "output_type": "stream",
     "text": [
      "Run: 01, Epoch: 16, Loss: 1.3144, Test: 72.70%\n"
     ]
    },
    {
     "name": "stderr",
     "output_type": "stream",
     "text": [
      "Embedding learning ... : 100%|██████████| 257/257 [00:03<00:00, 65.65it/s]\n",
      "Graph Readout ... : 100%|██████████| 257/257 [00:01<00:00, 184.77it/s]\n"
     ]
    },
    {
     "name": "stdout",
     "output_type": "stream",
     "text": [
      "Run: 01, Epoch: 17, Loss: 1.3116, Test: 73.21%\n"
     ]
    },
    {
     "name": "stderr",
     "output_type": "stream",
     "text": [
      "Embedding learning ... : 100%|██████████| 257/257 [00:04<00:00, 64.21it/s]\n",
      "Graph Readout ... : 100%|██████████| 257/257 [00:01<00:00, 181.21it/s]\n"
     ]
    },
    {
     "name": "stdout",
     "output_type": "stream",
     "text": [
      "Run: 01, Epoch: 18, Loss: 1.3098, Test: 72.51%\n"
     ]
    },
    {
     "name": "stderr",
     "output_type": "stream",
     "text": [
      "Embedding learning ... : 100%|██████████| 257/257 [00:03<00:00, 70.38it/s]\n",
      "Graph Readout ... : 100%|██████████| 257/257 [00:01<00:00, 180.17it/s]\n"
     ]
    },
    {
     "name": "stdout",
     "output_type": "stream",
     "text": [
      "Run: 01, Epoch: 19, Loss: 1.3101, Test: 73.16%\n"
     ]
    },
    {
     "name": "stderr",
     "output_type": "stream",
     "text": [
      "Embedding learning ... : 100%|██████████| 257/257 [00:03<00:00, 66.84it/s]\n",
      "Graph Readout ... : 100%|██████████| 257/257 [00:01<00:00, 192.70it/s]\n"
     ]
    },
    {
     "name": "stdout",
     "output_type": "stream",
     "text": [
      "Run: 01, Epoch: 20, Loss: 1.3129, Test: 72.92%\n",
      "==========Run 01 Graph classification==========\n",
      "Final Test: 73.43%\n",
      "==========Run 01 Graph classification==========\n",
      "==========All Runs Graph classification==========\n",
      "Final Test: 73.43 ± 0.00\n"
     ]
    }
   ],
   "source": [
    "%run train.py --device=0 --dataset=NCI1 --batch_size=16 --gnn_layers 64 64 --mlp_layers=128 --gnn_drop_p=0.5 --mlp_drop_p=0.5 \\\n",
    "    --lr_gnn=1e-7 --lr_vg=0.01 --lr_cls=0.01  --runs=1"
   ]
  },
  {
   "cell_type": "code",
   "execution_count": 24,
   "metadata": {},
   "outputs": [
    {
     "name": "stdout",
     "output_type": "stream",
     "text": [
      "Namespace(batch_size=16, cls_epochs=200, data_path='~/data/pygdata/', dataset_name='REDDIT-MULTI-5K', device='cuda:0', epochs=20, gnn_drop_p=0.1, gnn_emb_dim=64, gnn_layers=[64], lambda_norm=0, load_model_path='checkpoints/fast-gcl-20220114/model/run01epoch001.pth', load_triplet_path='checkpoints/fast-gcl-20220114/result/run01epoch001_triplet.pth', log_steps=1, lr_cls=0.01, lr_gnn=0.001, lr_vg=0.01, mask_path='./mask', mlp_drop_p=0.5, mlp_layers=[128], model_dir='checkpoints/reddit-multi-5k_fast-gcl-220114/model', num_layers=1, result_dir='checkpoints/reddit-multi-5k_fast-gcl-220114/result', runs=1, save_model=False, save_suffix='fast-gcl-220114', seed=123, task='graph classification', wd_cls=0.0005, wd_gnn=0.0, wd_vg=0.0005)\n"
     ]
    },
    {
     "name": "stderr",
     "output_type": "stream",
     "text": [
      "Downloading https://www.chrsmrrs.com/graphkerneldatasets/REDDIT-MULTI-5K.zip\n",
      "Extracting /home/wbsun/data/pygdata/REDDIT-MULTI-5K/REDDIT-MULTI-5K.zip\n",
      "Processing...\n",
      "Done!\n",
      "Embedding learning ... : 100%|██████████| 313/313 [00:04<00:00, 62.68it/s]\n",
      "Graph Readout ... : 100%|██████████| 313/313 [00:02<00:00, 126.67it/s]\n"
     ]
    },
    {
     "name": "stdout",
     "output_type": "stream",
     "text": [
      "Run: 01, Epoch: 01, Loss: 1.0872, Test: 50.79%\n"
     ]
    },
    {
     "name": "stderr",
     "output_type": "stream",
     "text": [
      "Embedding learning ... : 100%|██████████| 313/313 [00:04<00:00, 62.88it/s]\n",
      "Graph Readout ... : 100%|██████████| 313/313 [00:02<00:00, 128.14it/s]\n"
     ]
    },
    {
     "name": "stdout",
     "output_type": "stream",
     "text": [
      "Run: 01, Epoch: 02, Loss: 1.0158, Test: 50.47%\n"
     ]
    },
    {
     "name": "stderr",
     "output_type": "stream",
     "text": [
      "Embedding learning ... : 100%|██████████| 313/313 [00:04<00:00, 64.58it/s]\n",
      "Graph Readout ... : 100%|██████████| 313/313 [00:02<00:00, 127.06it/s]\n"
     ]
    },
    {
     "name": "stdout",
     "output_type": "stream",
     "text": [
      "Run: 01, Epoch: 03, Loss: 0.9935, Test: 49.25%\n"
     ]
    },
    {
     "name": "stderr",
     "output_type": "stream",
     "text": [
      "Embedding learning ... : 100%|██████████| 313/313 [00:04<00:00, 66.34it/s]\n",
      "Graph Readout ... : 100%|██████████| 313/313 [00:02<00:00, 126.49it/s]\n"
     ]
    },
    {
     "name": "stdout",
     "output_type": "stream",
     "text": [
      "Run: 01, Epoch: 04, Loss: 0.9731, Test: 52.13%\n"
     ]
    },
    {
     "name": "stderr",
     "output_type": "stream",
     "text": [
      "Embedding learning ... : 100%|██████████| 313/313 [00:04<00:00, 62.69it/s]\n",
      "Graph Readout ... : 100%|██████████| 313/313 [00:02<00:00, 116.26it/s]\n"
     ]
    },
    {
     "name": "stdout",
     "output_type": "stream",
     "text": [
      "Run: 01, Epoch: 05, Loss: 0.9721, Test: 51.69%\n"
     ]
    },
    {
     "name": "stderr",
     "output_type": "stream",
     "text": [
      "Embedding learning ... : 100%|██████████| 313/313 [00:04<00:00, 64.55it/s]\n",
      "Graph Readout ... : 100%|██████████| 313/313 [00:02<00:00, 118.83it/s]\n"
     ]
    },
    {
     "name": "stdout",
     "output_type": "stream",
     "text": [
      "Run: 01, Epoch: 06, Loss: 0.9660, Test: 51.37%\n"
     ]
    },
    {
     "name": "stderr",
     "output_type": "stream",
     "text": [
      "Embedding learning ... : 100%|██████████| 313/313 [00:04<00:00, 63.57it/s]\n",
      "Graph Readout ... : 100%|██████████| 313/313 [00:02<00:00, 126.84it/s]\n"
     ]
    },
    {
     "name": "stdout",
     "output_type": "stream",
     "text": [
      "Run: 01, Epoch: 07, Loss: 0.9633, Test: 44.53%\n"
     ]
    },
    {
     "name": "stderr",
     "output_type": "stream",
     "text": [
      "Embedding learning ... : 100%|██████████| 313/313 [00:04<00:00, 68.21it/s]\n",
      "Graph Readout ... : 100%|██████████| 313/313 [00:02<00:00, 131.39it/s]\n"
     ]
    },
    {
     "name": "stdout",
     "output_type": "stream",
     "text": [
      "Run: 01, Epoch: 08, Loss: 1.1430, Test: 48.43%\n"
     ]
    },
    {
     "name": "stderr",
     "output_type": "stream",
     "text": [
      "Embedding learning ... : 100%|██████████| 313/313 [00:04<00:00, 69.04it/s]\n",
      "Graph Readout ... : 100%|██████████| 313/313 [00:02<00:00, 128.38it/s]\n"
     ]
    },
    {
     "name": "stdout",
     "output_type": "stream",
     "text": [
      "Run: 01, Epoch: 09, Loss: 1.0511, Test: 50.55%\n"
     ]
    },
    {
     "name": "stderr",
     "output_type": "stream",
     "text": [
      "Embedding learning ... : 100%|██████████| 313/313 [00:04<00:00, 70.41it/s]\n",
      "Graph Readout ... : 100%|██████████| 313/313 [00:02<00:00, 129.87it/s]\n"
     ]
    },
    {
     "name": "stdout",
     "output_type": "stream",
     "text": [
      "Run: 01, Epoch: 10, Loss: 1.0145, Test: 46.99%\n"
     ]
    },
    {
     "name": "stderr",
     "output_type": "stream",
     "text": [
      "Embedding learning ... : 100%|██████████| 313/313 [00:04<00:00, 71.87it/s]\n",
      "Graph Readout ... : 100%|██████████| 313/313 [00:02<00:00, 106.93it/s]\n"
     ]
    },
    {
     "name": "stdout",
     "output_type": "stream",
     "text": [
      "Run: 01, Epoch: 11, Loss: 1.0467, Test: 51.33%\n"
     ]
    },
    {
     "name": "stderr",
     "output_type": "stream",
     "text": [
      "Embedding learning ... : 100%|██████████| 313/313 [00:04<00:00, 65.17it/s]\n",
      "Graph Readout ... : 100%|██████████| 313/313 [00:02<00:00, 110.95it/s]\n"
     ]
    },
    {
     "name": "stdout",
     "output_type": "stream",
     "text": [
      "Run: 01, Epoch: 12, Loss: 1.0349, Test: 49.45%\n"
     ]
    },
    {
     "name": "stderr",
     "output_type": "stream",
     "text": [
      "Embedding learning ... : 100%|██████████| 313/313 [00:04<00:00, 64.92it/s]\n",
      "Graph Readout ... : 100%|██████████| 313/313 [00:02<00:00, 123.18it/s]\n"
     ]
    },
    {
     "name": "stdout",
     "output_type": "stream",
     "text": [
      "Run: 01, Epoch: 13, Loss: 1.0804, Test: 49.73%\n"
     ]
    },
    {
     "name": "stderr",
     "output_type": "stream",
     "text": [
      "Embedding learning ... : 100%|██████████| 313/313 [00:04<00:00, 66.23it/s]\n",
      "Graph Readout ... : 100%|██████████| 313/313 [00:02<00:00, 123.46it/s]\n"
     ]
    },
    {
     "name": "stdout",
     "output_type": "stream",
     "text": [
      "Run: 01, Epoch: 14, Loss: 1.0211, Test: 48.99%\n"
     ]
    },
    {
     "name": "stderr",
     "output_type": "stream",
     "text": [
      "Embedding learning ... : 100%|██████████| 313/313 [00:04<00:00, 64.57it/s]\n",
      "Graph Readout ... : 100%|██████████| 313/313 [00:02<00:00, 123.54it/s]\n"
     ]
    },
    {
     "name": "stdout",
     "output_type": "stream",
     "text": [
      "Run: 01, Epoch: 15, Loss: 0.9912, Test: 49.05%\n"
     ]
    },
    {
     "name": "stderr",
     "output_type": "stream",
     "text": [
      "Embedding learning ... : 100%|██████████| 313/313 [00:04<00:00, 63.81it/s]\n",
      "Graph Readout ... : 100%|██████████| 313/313 [00:02<00:00, 126.73it/s]\n"
     ]
    },
    {
     "name": "stdout",
     "output_type": "stream",
     "text": [
      "Run: 01, Epoch: 16, Loss: 0.9683, Test: 49.37%\n"
     ]
    },
    {
     "name": "stderr",
     "output_type": "stream",
     "text": [
      "Embedding learning ... : 100%|██████████| 313/313 [00:04<00:00, 65.28it/s]\n",
      "Graph Readout ... : 100%|██████████| 313/313 [00:02<00:00, 127.03it/s]\n"
     ]
    },
    {
     "name": "stdout",
     "output_type": "stream",
     "text": [
      "Run: 01, Epoch: 17, Loss: 0.9596, Test: 45.67%\n"
     ]
    },
    {
     "name": "stderr",
     "output_type": "stream",
     "text": [
      "Embedding learning ... : 100%|██████████| 313/313 [00:04<00:00, 67.26it/s]\n",
      "Graph Readout ... : 100%|██████████| 313/313 [00:02<00:00, 126.98it/s]\n"
     ]
    },
    {
     "name": "stdout",
     "output_type": "stream",
     "text": [
      "Run: 01, Epoch: 18, Loss: 0.9536, Test: 49.31%\n"
     ]
    },
    {
     "name": "stderr",
     "output_type": "stream",
     "text": [
      "Embedding learning ... : 100%|██████████| 313/313 [00:04<00:00, 64.21it/s]\n",
      "Graph Readout ... : 100%|██████████| 313/313 [00:02<00:00, 126.55it/s]\n"
     ]
    },
    {
     "name": "stdout",
     "output_type": "stream",
     "text": [
      "Run: 01, Epoch: 19, Loss: 0.9599, Test: 51.15%\n"
     ]
    },
    {
     "name": "stderr",
     "output_type": "stream",
     "text": [
      "Embedding learning ... : 100%|██████████| 313/313 [00:05<00:00, 62.08it/s]\n",
      "Graph Readout ... : 100%|██████████| 313/313 [00:02<00:00, 124.59it/s]\n"
     ]
    },
    {
     "name": "stdout",
     "output_type": "stream",
     "text": [
      "Run: 01, Epoch: 20, Loss: 0.9594, Test: 50.21%\n",
      "==========Run 01 Graph classification==========\n",
      "Final Test: 52.13%\n",
      "==========Run 01 Graph classification==========\n",
      "==========All Runs Graph classification==========\n",
      "Final Test: 52.13 ± 0.00\n"
     ]
    }
   ],
   "source": [
    "%run train.py --device=0 --dataset=REDDIT-MULTI-5K --batch_size=16 --gnn_layers 64 --mlp_layers=128 --gnn_drop_p=0.1 --mlp_drop_p=0.5 \\\n",
    "    --lr_gnn=1e-3 --lr_vg=0.01 --lr_cls=0.01 --wd_gnn=0  --runs=1"
   ]
  },
  {
   "cell_type": "code",
   "execution_count": null,
   "metadata": {},
   "outputs": [],
   "source": []
  }
 ],
 "metadata": {
  "interpreter": {
   "hash": "d724164a1f40be93fc2ef09269a6956812f1dc93bb4daa7689c41cf9a4488979"
  },
  "kernelspec": {
   "display_name": "Python 3.8.12 64-bit ('py3.8+pt1.10': conda)",
   "language": "python",
   "name": "python3"
  },
  "language_info": {
   "codemirror_mode": {
    "name": "ipython",
    "version": 3
   },
   "file_extension": ".py",
   "mimetype": "text/x-python",
   "name": "python",
   "nbconvert_exporter": "python",
   "pygments_lexer": "ipython3",
   "version": "3.8.12"
  },
  "orig_nbformat": 4
 },
 "nbformat": 4,
 "nbformat_minor": 2
}
